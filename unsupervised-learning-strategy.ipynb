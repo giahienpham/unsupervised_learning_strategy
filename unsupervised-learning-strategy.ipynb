{
  "cells": [
    {
      "cell_type": "markdown",
      "id": "ee7defea",
      "metadata": {
        "id": "ee7defea"
      },
      "source": [
        "# Unsupervised Learning Trading Strategy\n",
        "\n",
        "* Download/Load SP500 stocks prices data.\n",
        "* Calculate different features and indicators on each stock.\n",
        "* Aggregate on monthly level and filter top 150 most liquid stocks.\n",
        "* Calculate Monthly Returns for different time-horizons.\n",
        "* Download Fama-French Factors and Calculate Rolling Factor Betas.\n",
        "* For each month fit a K-Means Clustering Algorithm to group similar assets based on their features.\n",
        "* For each month select assets based on the cluster and form a portfolio based on Efficient Frontier max sharpe ratio optimization.\n",
        "* Visualize Portfolio returns and compare to SP500 returns."
      ]
    },
    {
      "cell_type": "markdown",
      "id": "2eaf4331",
      "metadata": {
        "id": "2eaf4331"
      },
      "source": [
        "# All Packages Needed:\n",
        "* pandas, numpy, matplotlib, statsmodels, pandas_datareader, datetime, yfinance, sklearn, PyPortfolioOpt"
      ]
    },
    {
      "cell_type": "code",
      "execution_count": 3,
      "id": "PNVs7sAz1xiC",
      "metadata": {
        "colab": {
          "base_uri": "https://localhost:8080/"
        },
        "id": "PNVs7sAz1xiC",
        "outputId": "878900fc-4daf-4953-ae2f-9995021e6dcc"
      },
      "outputs": [
        {
          "name": "stdout",
          "output_type": "stream",
          "text": [
            "Requirement already satisfied: pandas_ta in c:\\python312\\lib\\site-packages (0.3.14b0)\n",
            "Requirement already satisfied: pandas in c:\\python312\\lib\\site-packages (from pandas_ta) (2.2.2)\n",
            "Requirement already satisfied: numpy>=1.26.0 in c:\\python312\\lib\\site-packages (from pandas->pandas_ta) (1.26.4)\n",
            "Requirement already satisfied: python-dateutil>=2.8.2 in c:\\users\\laptop qhd\\appdata\\roaming\\python\\python312\\site-packages (from pandas->pandas_ta) (2.9.0.post0)\n",
            "Requirement already satisfied: pytz>=2020.1 in c:\\python312\\lib\\site-packages (from pandas->pandas_ta) (2024.1)\n",
            "Requirement already satisfied: tzdata>=2022.7 in c:\\python312\\lib\\site-packages (from pandas->pandas_ta) (2024.1)\n",
            "Requirement already satisfied: six>=1.5 in c:\\users\\laptop qhd\\appdata\\roaming\\python\\python312\\site-packages (from python-dateutil>=2.8.2->pandas->pandas_ta) (1.16.0)\n",
            "Note: you may need to restart the kernel to use updated packages.\n"
          ]
        },
        {
          "name": "stderr",
          "output_type": "stream",
          "text": [
            "\n",
            "[notice] A new release of pip is available: 23.2.1 -> 24.0\n",
            "[notice] To update, run: python.exe -m pip install --upgrade pip\n"
          ]
        }
      ],
      "source": [
        "pip install pandas_ta"
      ]
    },
    {
      "cell_type": "markdown",
      "id": "dfeddf97",
      "metadata": {
        "id": "dfeddf97"
      },
      "source": [
        "## 1. Download/Load SP500 stocks prices data."
      ]
    },
    {
      "cell_type": "code",
      "execution_count": 4,
      "id": "8c1d8f41",
      "metadata": {
        "colab": {
          "base_uri": "https://localhost:8080/",
          "height": 237
        },
        "id": "8c1d8f41",
        "outputId": "da28f712-d358-41cc-c435-c153a9013e5d"
      },
      "outputs": [
        {
          "name": "stderr",
          "output_type": "stream",
          "text": [
            "[*********************100%%**********************]  503 of 503 completed\n"
          ]
        },
        {
          "data": {
            "text/html": [
              "<div>\n",
              "<style scoped>\n",
              "    .dataframe tbody tr th:only-of-type {\n",
              "        vertical-align: middle;\n",
              "    }\n",
              "\n",
              "    .dataframe tbody tr th {\n",
              "        vertical-align: top;\n",
              "    }\n",
              "\n",
              "    .dataframe thead th {\n",
              "        text-align: right;\n",
              "    }\n",
              "</style>\n",
              "<table border=\"1\" class=\"dataframe\">\n",
              "  <thead>\n",
              "    <tr style=\"text-align: right;\">\n",
              "      <th></th>\n",
              "      <th>Price</th>\n",
              "      <th>adj close</th>\n",
              "      <th>close</th>\n",
              "      <th>high</th>\n",
              "      <th>low</th>\n",
              "      <th>open</th>\n",
              "      <th>volume</th>\n",
              "    </tr>\n",
              "    <tr>\n",
              "      <th>Date</th>\n",
              "      <th>Ticker</th>\n",
              "      <th></th>\n",
              "      <th></th>\n",
              "      <th></th>\n",
              "      <th></th>\n",
              "      <th></th>\n",
              "      <th></th>\n",
              "    </tr>\n",
              "  </thead>\n",
              "  <tbody>\n",
              "    <tr>\n",
              "      <th rowspan=\"5\" valign=\"top\">2016-06-03</th>\n",
              "      <th>A</th>\n",
              "      <td>42.902836</td>\n",
              "      <td>45.720001</td>\n",
              "      <td>45.849998</td>\n",
              "      <td>45.189999</td>\n",
              "      <td>45.730000</td>\n",
              "      <td>2395100.0</td>\n",
              "    </tr>\n",
              "    <tr>\n",
              "      <th>AAL</th>\n",
              "      <td>29.609125</td>\n",
              "      <td>30.809999</td>\n",
              "      <td>31.600000</td>\n",
              "      <td>30.370001</td>\n",
              "      <td>31.590000</td>\n",
              "      <td>12424100.0</td>\n",
              "    </tr>\n",
              "    <tr>\n",
              "      <th>AAPL</th>\n",
              "      <td>22.484554</td>\n",
              "      <td>24.480000</td>\n",
              "      <td>24.567499</td>\n",
              "      <td>24.362499</td>\n",
              "      <td>24.447500</td>\n",
              "      <td>114019600.0</td>\n",
              "    </tr>\n",
              "    <tr>\n",
              "      <th>ABBV</th>\n",
              "      <td>46.064487</td>\n",
              "      <td>65.000000</td>\n",
              "      <td>65.370003</td>\n",
              "      <td>63.750000</td>\n",
              "      <td>64.760002</td>\n",
              "      <td>10621600.0</td>\n",
              "    </tr>\n",
              "    <tr>\n",
              "      <th>ABT</th>\n",
              "      <td>33.816418</td>\n",
              "      <td>39.180000</td>\n",
              "      <td>39.540001</td>\n",
              "      <td>39.020000</td>\n",
              "      <td>39.520000</td>\n",
              "      <td>10841200.0</td>\n",
              "    </tr>\n",
              "  </tbody>\n",
              "</table>\n",
              "</div>"
            ],
            "text/plain": [
              "Price              adj close      close       high        low       open  \\\n",
              "Date       Ticker                                                          \n",
              "2016-06-03 A       42.902836  45.720001  45.849998  45.189999  45.730000   \n",
              "           AAL     29.609125  30.809999  31.600000  30.370001  31.590000   \n",
              "           AAPL    22.484554  24.480000  24.567499  24.362499  24.447500   \n",
              "           ABBV    46.064487  65.000000  65.370003  63.750000  64.760002   \n",
              "           ABT     33.816418  39.180000  39.540001  39.020000  39.520000   \n",
              "\n",
              "Price                   volume  \n",
              "Date       Ticker               \n",
              "2016-06-03 A         2395100.0  \n",
              "           AAL      12424100.0  \n",
              "           AAPL    114019600.0  \n",
              "           ABBV     10621600.0  \n",
              "           ABT      10841200.0  "
            ]
          },
          "execution_count": 4,
          "metadata": {},
          "output_type": "execute_result"
        }
      ],
      "source": [
        "from statsmodels.regression.rolling import RollingOLS\n",
        "import pandas_datareader.data as web\n",
        "import matplotlib.pyplot as plt\n",
        "import statsmodels.api as sm\n",
        "import pandas as pd\n",
        "import numpy as np\n",
        "import datetime as dt\n",
        "import yfinance as yf\n",
        "import pandas_ta\n",
        "import warnings\n",
        "warnings.filterwarnings('ignore')\n",
        "\n",
        "sp500 = pd.read_html('https://en.wikipedia.org/wiki/List_of_S%26P_500_companies')[0]\n",
        "sp500['Symbol'] = sp500['Symbol'].str.replace('.','-')\n",
        "symbol_list = sp500['Symbol'].unique().tolist()\n",
        "\n",
        "end_date = '2024-06-01'\n",
        "\n",
        "start_date = pd.to_datetime(end_date) - pd.DateOffset(365*8)\n",
        "\n",
        "df = yf.download(tickers=symbol_list,\n",
        "                 start = start_date,\n",
        "                 end = end_date).stack()\n",
        "df.index.names = ['Date', 'Ticker']\n",
        "df.columns = df.columns.str.lower()\n",
        "df.head()"
      ]
    },
    {
      "cell_type": "code",
      "execution_count": null,
      "id": "e0c34ef5",
      "metadata": {
        "id": "e0c34ef5"
      },
      "outputs": [],
      "source": []
    },
    {
      "cell_type": "markdown",
      "id": "55746c31",
      "metadata": {
        "id": "55746c31"
      },
      "source": [
        "## 2. Calculate features and technical indicators for each stock.\n",
        "\n",
        "* Garman-Klass Volatility\n",
        "* RSI\n",
        "* Bollinger Bands\n",
        "* ATR\n",
        "* MACD\n",
        "* Dollar Volume"
      ]
    },
    {
      "cell_type": "markdown",
      "id": "2c94feae",
      "metadata": {
        "id": "2c94feae"
      },
      "source": [
        "\\begin{equation}\n",
        "\\text{Garman-Klass Volatility} = \\frac{(\\ln(\\text{High}) - \\ln(\\text{Low}))^2}{2} - (2\\ln(2) - 1)(\\ln(\\text{Adj Close}) - \\ln(\\text{Open}))^2\n",
        "\\end{equation}"
      ]
    },
    {
      "cell_type": "code",
      "execution_count": null,
      "id": "481fd2a6",
      "metadata": {
        "id": "481fd2a6"
      },
      "outputs": [],
      "source": []
    },
    {
      "cell_type": "code",
      "execution_count": null,
      "id": "31e7ef78",
      "metadata": {
        "id": "31e7ef78"
      },
      "outputs": [],
      "source": []
    },
    {
      "cell_type": "markdown",
      "id": "c735696b",
      "metadata": {
        "id": "c735696b"
      },
      "source": [
        "## 3. Aggregate to monthly level and filter top 150 most liquid stocks for each month.\n",
        "\n",
        "* To reduce training time and experiment with features and strategies, we convert the business-daily data to month-end frequency."
      ]
    },
    {
      "cell_type": "code",
      "execution_count": null,
      "id": "8ec67c59",
      "metadata": {
        "id": "8ec67c59"
      },
      "outputs": [],
      "source": []
    },
    {
      "cell_type": "markdown",
      "id": "e632ffc7",
      "metadata": {
        "id": "e632ffc7"
      },
      "source": [
        "* Calculate 5-year rolling average of dollar volume for each stocks before filtering."
      ]
    },
    {
      "cell_type": "code",
      "execution_count": null,
      "id": "a5208030",
      "metadata": {
        "id": "a5208030"
      },
      "outputs": [],
      "source": []
    },
    {
      "cell_type": "markdown",
      "id": "a8e13a3b",
      "metadata": {
        "id": "a8e13a3b"
      },
      "source": [
        "## 4. Calculate Monthly Returns for different time horizons as features.\n",
        "\n",
        "* To capture time series dynamics that reflect, for example, momentum patterns, we compute historical returns using the method .pct_change(lag), that is, returns over various monthly periods as identified by lags."
      ]
    },
    {
      "cell_type": "code",
      "execution_count": null,
      "id": "bda8d55d",
      "metadata": {
        "id": "bda8d55d"
      },
      "outputs": [],
      "source": []
    },
    {
      "cell_type": "markdown",
      "id": "df434b55",
      "metadata": {
        "id": "df434b55"
      },
      "source": [
        "## 5. Download Fama-French Factors and Calculate Rolling Factor Betas.\n",
        "\n",
        "* We will introduce the Fama—French data to estimate the exposure of assets to common risk factors using linear regression.\n",
        "\n",
        "* The five Fama—French factors, namely market risk, size, value, operating profitability, and investment have been shown empirically to explain asset returns and are commonly used to assess the risk/return profile of portfolios. Hence, it is natural to include past factor exposures as financial features in models.\n",
        "\n",
        "* We can access the historical factor returns using the pandas-datareader and estimate historical exposures using the RollingOLS rolling linear regression."
      ]
    },
    {
      "cell_type": "code",
      "execution_count": null,
      "id": "d64a7ab7",
      "metadata": {
        "id": "d64a7ab7"
      },
      "outputs": [],
      "source": []
    },
    {
      "cell_type": "markdown",
      "id": "8840bf3b",
      "metadata": {
        "id": "8840bf3b"
      },
      "source": [
        "* Filter out stocks with less than 10 months of data."
      ]
    },
    {
      "cell_type": "code",
      "execution_count": null,
      "id": "d586d806",
      "metadata": {
        "id": "d586d806"
      },
      "outputs": [],
      "source": []
    },
    {
      "cell_type": "markdown",
      "id": "f0107433",
      "metadata": {
        "id": "f0107433"
      },
      "source": [
        "* Calculate Rolling Factor Betas."
      ]
    },
    {
      "cell_type": "code",
      "execution_count": null,
      "id": "8364bbad",
      "metadata": {
        "id": "8364bbad"
      },
      "outputs": [],
      "source": []
    },
    {
      "cell_type": "markdown",
      "id": "5491e61a",
      "metadata": {
        "id": "5491e61a"
      },
      "source": [
        "* Join the rolling factors data to the main features dataframe."
      ]
    },
    {
      "cell_type": "code",
      "execution_count": null,
      "id": "e169594b",
      "metadata": {
        "id": "e169594b"
      },
      "outputs": [],
      "source": []
    },
    {
      "cell_type": "markdown",
      "id": "81eeb7f6",
      "metadata": {
        "id": "81eeb7f6"
      },
      "source": [
        "### At this point we have to decide on what ML model and approach to use for predictions etc.\n"
      ]
    },
    {
      "cell_type": "markdown",
      "id": "785bbfb3",
      "metadata": {
        "id": "785bbfb3"
      },
      "source": [
        "## 6. For each month fit a K-Means Clustering Algorithm to group similar assets based on their features.\n",
        "\n",
        "### K-Means Clustering\n",
        "* You may want to initialize predefined centroids for each cluster based on your research.\n",
        "\n",
        "* For visualization purpose of this tutorial we will initially rely on the ‘k-means++’ initialization.\n",
        "\n",
        "* Then we will pre-define our centroids for each cluster."
      ]
    },
    {
      "cell_type": "code",
      "execution_count": null,
      "id": "3a94dc1a",
      "metadata": {
        "id": "3a94dc1a",
        "scrolled": false
      },
      "outputs": [],
      "source": []
    },
    {
      "cell_type": "code",
      "execution_count": null,
      "id": "6323ab80",
      "metadata": {
        "id": "6323ab80",
        "scrolled": false
      },
      "outputs": [],
      "source": []
    },
    {
      "cell_type": "code",
      "execution_count": null,
      "id": "4a66097e",
      "metadata": {
        "id": "4a66097e"
      },
      "outputs": [],
      "source": [
        "\n"
      ]
    },
    {
      "cell_type": "code",
      "execution_count": null,
      "id": "984bd52f",
      "metadata": {
        "id": "984bd52f",
        "scrolled": true
      },
      "outputs": [],
      "source": []
    },
    {
      "cell_type": "markdown",
      "id": "27e52a4f",
      "metadata": {
        "id": "27e52a4f"
      },
      "source": [
        "### Apply pre-defined centroids."
      ]
    },
    {
      "cell_type": "code",
      "execution_count": null,
      "id": "d945fd54",
      "metadata": {
        "id": "d945fd54"
      },
      "outputs": [],
      "source": []
    },
    {
      "cell_type": "markdown",
      "id": "9d28c49e",
      "metadata": {
        "id": "9d28c49e"
      },
      "source": [
        "## 7. For each month select assets based on the cluster and form a portfolio based on Efficient Frontier max sharpe ratio optimization\n",
        "\n",
        "* First we will filter only stocks corresponding to the cluster we choose based on our hypothesis.\n",
        "\n",
        "* Momentum is persistent and my idea would be that stocks clustered around RSI 70 centroid should continue to outperform in the following month - thus I would select stocks corresponding to cluster 3.\n"
      ]
    },
    {
      "cell_type": "code",
      "execution_count": null,
      "id": "4565941a",
      "metadata": {
        "id": "4565941a"
      },
      "outputs": [],
      "source": []
    },
    {
      "cell_type": "markdown",
      "id": "097f9941",
      "metadata": {
        "id": "097f9941"
      },
      "source": [
        "### Define portfolio optimization function\n",
        "\n",
        "* We will define a function which optimizes portfolio weights using PyPortfolioOpt package and EfficientFrontier optimizer to maximize the sharpe ratio.\n",
        "\n",
        "* To optimize the weights of a given portfolio we would need to supply last 1 year prices to the function.\n",
        "\n",
        "* Apply signle stock weight bounds constraint for diversification (minimum half of equaly weight and maximum 10% of portfolio)."
      ]
    },
    {
      "cell_type": "code",
      "execution_count": null,
      "id": "e2888d07",
      "metadata": {
        "id": "e2888d07"
      },
      "outputs": [],
      "source": [
        "\n"
      ]
    },
    {
      "cell_type": "markdown",
      "id": "1fd59c17",
      "metadata": {
        "id": "1fd59c17"
      },
      "source": [
        "* Download Fresh Daily Prices Data only for short listed stocks."
      ]
    },
    {
      "cell_type": "code",
      "execution_count": null,
      "id": "41d737d6",
      "metadata": {
        "id": "41d737d6"
      },
      "outputs": [],
      "source": []
    },
    {
      "cell_type": "markdown",
      "id": "3d8b906e",
      "metadata": {
        "id": "3d8b906e"
      },
      "source": [
        "* Calculate daily returns for each stock which could land up in our portfolio.\n",
        "\n",
        "* Then loop over each month start, select the stocks for the month and calculate their weights for the next month.\n",
        "\n",
        "* If the maximum sharpe ratio optimization fails for a given month, apply equally-weighted weights.\n",
        "\n",
        "* Calculated each day portfolio return."
      ]
    },
    {
      "cell_type": "code",
      "execution_count": null,
      "id": "d5a1120f",
      "metadata": {
        "id": "d5a1120f"
      },
      "outputs": [],
      "source": []
    },
    {
      "cell_type": "markdown",
      "id": "dcced0d1",
      "metadata": {
        "id": "dcced0d1"
      },
      "source": [
        "## 8. Visualize Portfolio returns and compare to SP500 returns."
      ]
    },
    {
      "cell_type": "code",
      "execution_count": null,
      "id": "2bba264c",
      "metadata": {
        "id": "2bba264c"
      },
      "outputs": [],
      "source": []
    },
    {
      "cell_type": "code",
      "execution_count": null,
      "id": "1235b1e1",
      "metadata": {
        "id": "1235b1e1"
      },
      "outputs": [],
      "source": []
    },
    {
      "cell_type": "code",
      "execution_count": null,
      "id": "87b332e3",
      "metadata": {
        "id": "87b332e3"
      },
      "outputs": [],
      "source": []
    },
    {
      "cell_type": "code",
      "execution_count": null,
      "id": "9c2ca999",
      "metadata": {
        "id": "9c2ca999"
      },
      "outputs": [],
      "source": []
    },
    {
      "cell_type": "code",
      "execution_count": null,
      "id": "a21504e7",
      "metadata": {
        "id": "a21504e7"
      },
      "outputs": [],
      "source": []
    },
    {
      "cell_type": "code",
      "execution_count": null,
      "id": "770ff70f",
      "metadata": {
        "id": "770ff70f"
      },
      "outputs": [],
      "source": []
    },
    {
      "cell_type": "code",
      "execution_count": null,
      "id": "31019716",
      "metadata": {
        "id": "31019716"
      },
      "outputs": [],
      "source": []
    },
    {
      "cell_type": "code",
      "execution_count": null,
      "id": "ed1384dc",
      "metadata": {
        "id": "ed1384dc"
      },
      "outputs": [],
      "source": []
    },
    {
      "cell_type": "code",
      "execution_count": null,
      "id": "645a75c6",
      "metadata": {
        "id": "645a75c6"
      },
      "outputs": [],
      "source": []
    },
    {
      "cell_type": "code",
      "execution_count": null,
      "id": "a37a8a52",
      "metadata": {
        "id": "a37a8a52"
      },
      "outputs": [],
      "source": []
    },
    {
      "cell_type": "markdown",
      "id": "d1f18007",
      "metadata": {
        "id": "d1f18007"
      },
      "source": [
        "# Twitter Sentiment Investing Strategy\n",
        "\n",
        "## 1. Load Twitter Sentiment Data\n",
        "\n",
        "* Load the twitter sentiment dataset, set the index, calculat engagement ratio and filter out stocks with no significant twitter activity."
      ]
    },
    {
      "cell_type": "code",
      "execution_count": null,
      "id": "d947792e",
      "metadata": {
        "id": "d947792e"
      },
      "outputs": [],
      "source": []
    },
    {
      "cell_type": "markdown",
      "id": "cde71915",
      "metadata": {
        "id": "cde71915"
      },
      "source": [
        "## 2. Aggregate Monthly and calculate average sentiment for the month\n",
        "\n",
        "* Aggregate on a monthly level and calculate average monthly metric, for the one we choose."
      ]
    },
    {
      "cell_type": "code",
      "execution_count": null,
      "id": "a1158a73",
      "metadata": {
        "id": "a1158a73"
      },
      "outputs": [],
      "source": []
    },
    {
      "cell_type": "markdown",
      "id": "22d9f188",
      "metadata": {
        "id": "22d9f188"
      },
      "source": [
        "## 3. Select Top 5 Stocks based on their cross-sectional ranking for each month\n",
        "\n",
        "* Select top 5 stocks by rank for each month and fix the date to start at beginning of next month."
      ]
    },
    {
      "cell_type": "code",
      "execution_count": null,
      "id": "2ac1dce0",
      "metadata": {
        "id": "2ac1dce0"
      },
      "outputs": [],
      "source": []
    },
    {
      "cell_type": "markdown",
      "id": "f2ecadd7",
      "metadata": {
        "id": "f2ecadd7"
      },
      "source": [
        "## 4. Extract the stocks to form portfolios with at the start of each new month\n",
        "\n",
        "* Create a dictionary containing start of month and corresponded selected stocks."
      ]
    },
    {
      "cell_type": "code",
      "execution_count": null,
      "id": "ddc646c0",
      "metadata": {
        "id": "ddc646c0"
      },
      "outputs": [],
      "source": []
    },
    {
      "cell_type": "markdown",
      "id": "a9750aea",
      "metadata": {
        "id": "a9750aea"
      },
      "source": [
        "## 5. Download fresh stock prices for only selected/shortlisted stocks"
      ]
    },
    {
      "cell_type": "code",
      "execution_count": null,
      "id": "b6503bff",
      "metadata": {
        "id": "b6503bff"
      },
      "outputs": [],
      "source": []
    },
    {
      "cell_type": "markdown",
      "id": "d64da79b",
      "metadata": {
        "id": "d64da79b"
      },
      "source": [
        "## 6. Calculate Portfolio Returns with monthly rebalancing\n"
      ]
    },
    {
      "cell_type": "code",
      "execution_count": null,
      "id": "94971d78",
      "metadata": {
        "id": "94971d78"
      },
      "outputs": [],
      "source": []
    },
    {
      "cell_type": "markdown",
      "id": "b4f3f0d7",
      "metadata": {
        "id": "b4f3f0d7"
      },
      "source": [
        "## 7. Download NASDAQ/QQQ prices and calculate returns to compare to our strategy"
      ]
    },
    {
      "cell_type": "code",
      "execution_count": null,
      "id": "a59d9f00",
      "metadata": {
        "id": "a59d9f00"
      },
      "outputs": [],
      "source": []
    },
    {
      "cell_type": "code",
      "execution_count": null,
      "id": "bf728f75",
      "metadata": {
        "id": "bf728f75",
        "scrolled": true
      },
      "outputs": [],
      "source": []
    },
    {
      "cell_type": "code",
      "execution_count": null,
      "id": "73f62ac0",
      "metadata": {
        "id": "73f62ac0"
      },
      "outputs": [],
      "source": []
    },
    {
      "cell_type": "code",
      "execution_count": null,
      "id": "4d6d8cc1",
      "metadata": {
        "id": "4d6d8cc1"
      },
      "outputs": [],
      "source": []
    },
    {
      "cell_type": "code",
      "execution_count": null,
      "id": "a4d557c5",
      "metadata": {
        "id": "a4d557c5"
      },
      "outputs": [],
      "source": []
    },
    {
      "cell_type": "code",
      "execution_count": null,
      "id": "ce7c05b3",
      "metadata": {
        "id": "ce7c05b3"
      },
      "outputs": [],
      "source": []
    },
    {
      "cell_type": "code",
      "execution_count": null,
      "id": "08f25123",
      "metadata": {
        "id": "08f25123"
      },
      "outputs": [],
      "source": []
    },
    {
      "cell_type": "code",
      "execution_count": null,
      "id": "22cfc09d",
      "metadata": {
        "id": "22cfc09d"
      },
      "outputs": [],
      "source": []
    },
    {
      "cell_type": "markdown",
      "id": "51f43be9",
      "metadata": {
        "id": "51f43be9"
      },
      "source": [
        "# Intraday Strategy Using GARCH Model\n",
        "\n",
        "\n",
        "* Using simulated daily data and intraday 5-min data.\n",
        "* Load Daily and 5-minute data.\n",
        "* Define function to fit GARCH model on the daily data and predict 1-day ahead volatility in a rolling window.\n",
        "* Calculate prediction premium and form a daily signal from it.\n",
        "* Merge with intraday data and calculate intraday indicators to form the intraday signal.\n",
        "* Generate the position entry and hold until the end of the day.\n",
        "* Calculate final strategy returns."
      ]
    },
    {
      "cell_type": "markdown",
      "id": "46be3499",
      "metadata": {
        "id": "46be3499"
      },
      "source": [
        "## 1. Load Simulated Daily and Simulated 5-minute data.\n",
        "\n",
        "* We are loading both datasets, set the indexes and calculate daily log returns."
      ]
    },
    {
      "cell_type": "code",
      "execution_count": null,
      "id": "f21b8e8c",
      "metadata": {
        "id": "f21b8e8c"
      },
      "outputs": [],
      "source": []
    },
    {
      "cell_type": "markdown",
      "id": "ac0b9cc4",
      "metadata": {
        "id": "ac0b9cc4"
      },
      "source": [
        "## 2. Define function to fit GARCH model and predict 1-day ahead volatility in a rolling window.\n",
        "\n",
        "* We are first calculating the 6-month rolling variance and then we are creating a function in a 6-month rolling window to fit a garch model and predict the next day variance."
      ]
    },
    {
      "cell_type": "code",
      "execution_count": null,
      "id": "bed18e20",
      "metadata": {
        "id": "bed18e20",
        "scrolled": true
      },
      "outputs": [],
      "source": []
    },
    {
      "cell_type": "markdown",
      "id": "1d692730",
      "metadata": {
        "id": "1d692730"
      },
      "source": [
        "## 3. Calculate prediction premium and form a daily signal from it.\n",
        "\n",
        "* We are calculating the prediction premium. And calculate its 6-month rolling standard deviation.\n",
        "\n",
        "* From this we are creating our daily signal."
      ]
    },
    {
      "cell_type": "code",
      "execution_count": null,
      "id": "0eb535a3",
      "metadata": {
        "id": "0eb535a3"
      },
      "outputs": [],
      "source": []
    },
    {
      "cell_type": "code",
      "execution_count": null,
      "id": "3dd44075",
      "metadata": {
        "id": "3dd44075"
      },
      "outputs": [],
      "source": []
    },
    {
      "cell_type": "markdown",
      "id": "5467e501",
      "metadata": {
        "id": "5467e501"
      },
      "source": [
        "## 4. Merge with intraday data and calculate intraday indicators to form the intraday signal.\n",
        "\n",
        "* Calculate all intraday indicators and intraday signal."
      ]
    },
    {
      "cell_type": "code",
      "execution_count": null,
      "id": "88d99a01",
      "metadata": {
        "id": "88d99a01"
      },
      "outputs": [],
      "source": []
    },
    {
      "cell_type": "markdown",
      "id": "ae154db7",
      "metadata": {
        "id": "ae154db7"
      },
      "source": [
        "## 5. Generate the position entry and hold until the end of the day."
      ]
    },
    {
      "cell_type": "code",
      "execution_count": null,
      "id": "b4a4dcdf",
      "metadata": {
        "id": "b4a4dcdf"
      },
      "outputs": [],
      "source": []
    },
    {
      "cell_type": "markdown",
      "id": "03dd2e02",
      "metadata": {
        "id": "03dd2e02"
      },
      "source": [
        "## 6. Calculate final strategy returns."
      ]
    },
    {
      "cell_type": "code",
      "execution_count": null,
      "id": "93caf5fd",
      "metadata": {
        "id": "93caf5fd"
      },
      "outputs": [],
      "source": []
    },
    {
      "cell_type": "code",
      "execution_count": null,
      "id": "5b57aa20",
      "metadata": {
        "id": "5b57aa20"
      },
      "outputs": [],
      "source": []
    },
    {
      "cell_type": "code",
      "execution_count": null,
      "id": "6806c20d",
      "metadata": {
        "id": "6806c20d"
      },
      "outputs": [],
      "source": []
    },
    {
      "cell_type": "code",
      "execution_count": null,
      "id": "3787c376",
      "metadata": {
        "id": "3787c376"
      },
      "outputs": [],
      "source": []
    },
    {
      "cell_type": "code",
      "execution_count": null,
      "id": "0976c731",
      "metadata": {
        "id": "0976c731"
      },
      "outputs": [],
      "source": []
    }
  ],
  "metadata": {
    "colab": {
      "provenance": []
    },
    "kernelspec": {
      "display_name": "Python 3",
      "language": "python",
      "name": "python3"
    },
    "language_info": {
      "codemirror_mode": {
        "name": "ipython",
        "version": 3
      },
      "file_extension": ".py",
      "mimetype": "text/x-python",
      "name": "python",
      "nbconvert_exporter": "python",
      "pygments_lexer": "ipython3",
      "version": "3.12.1"
    }
  },
  "nbformat": 4,
  "nbformat_minor": 5
}
